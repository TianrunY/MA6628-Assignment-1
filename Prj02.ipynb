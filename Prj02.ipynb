{
 "cells": [
  {
   "cell_type": "markdown",
   "metadata": {
    "collapsed": false
   },
   "source": [
    "# MA6628 Prj02\n",
    "**Prj02.** (L04) This is an application of BSM evaluation to Geometric asian option price\n",
    "\n",
    "Geometric asian call option with maturity $T$ and strike $K$ has its pay off as\n",
    "$$C(T) = (A(T) - K)^+,$$\n",
    "where $A(T)$ is geometric average of the stock price at times\n",
    "$0 \\le t_1 < t_2, \\ldots, < t_n = T$, i.e.\n",
    "$$A(T) = (S(t_1)S(t_2) \\ldots S(t_n))^{1/n}.$$\n",
    "\n",
    "The call price can be thus written by\n",
    "$$C_0 = \\mathbb E [e^{-rT} (A(T) - K)^+].$$\n",
    "\n",
    "**To do**\n",
    "Use \"BSM_option_valuation\" module to find the BSM asian option value with the following parameters\n",
    "\n"
   ]
  },
  {
   "cell_type": "code",
   "execution_count": 11,
   "metadata": {
    "collapsed": false
   },
   "outputs": [
   ],
   "source": [
    "import numpy as np \n",
    "import scipy.stats as ss\n",
    "import matplotlib.pyplot as plt\n",
    "import time \n",
    "import math "
   ]
  },
  {
   "cell_type": "code",
   "execution_count": 12,
   "metadata": {
    "collapsed": false
   },
   "outputs": [
   ],
   "source": [
    "# We need to find out d1 and d2 for later calculation\n",
    "def d1f(St, K, t, T, r, sigma):\n",
    "    ''' Black-Scholes-Merton d1 function.\n",
    "        Parameters see e.g. BSM_call_value function. '''\n",
    "    d1 = (math.log(St / K) + (r + 0.5 * sigma ** 2)\n",
    "          * (T - t)) / (sigma * math.sqrt(T - t))\n",
    "    return d1"
   ]
  },
  {
   "cell_type": "code",
   "execution_count": 13,
   "metadata": {
    "collapsed": false
   },
   "outputs": [
   ],
   "source": [
    "# Valuation Functions for the price of call\n",
    "def BSM_call_value(St, K, t, T, r, sigma):\n",
    "    ''' Calculates Black-Scholes-Merton European call option value.\n",
    "\n",
    "    Parameters\n",
    "    ==========\n",
    "    St : float\n",
    "        stock/index level at time t\n",
    "    K : float\n",
    "        strike price\n",
    "    t : float\n",
    "        valuation date\n",
    "    T : float\n",
    "        date of maturity/time-to-maturity if t = 0; T > t\n",
    "    r : float\n",
    "        constant, risk-less short rate\n",
    "    sigma : float\n",
    "        volatility\n",
    "\n",
    "    Returns\n",
    "    =======\n",
    "    call_value : float\n",
    "        European call present value at t\n",
    "    '''\n",
    "    d1 = d1f(St, K, t, T, r, sigma)\n",
    "    d2 = d1 - sigma * math.sqrt(T - t)\n",
    "    call_value = St * ss.norm.cdf(d1) - math.exp(-r * (T - t)) * K * ss.norm.cdf(d2)\n",
    "    return call_value"
   ]
  },
  {
   "cell_type": "code",
   "execution_count": 14,
   "metadata": {
    "collapsed": false
   },
   "outputs": [
   ],
   "source": [
    "# Values in the project\n",
    "S0 = 100.0                           #initial price\n",
    "K = 110.0                            #strike price\n",
    "r = 0.0475                           #interest rate\n",
    "sigma = 0.20                         #vol\n",
    "T = 1                                #time to maturity\n",
    "Otype='C'                            #call\n",
    "n = 4                                #number of periods\n",
    "t = np.linspace(0., T, n+1)[1:]      #times to be used for geometric averaging stock price"
   ]
  },
  {
   "cell_type": "markdown",
   "metadata": {
    "collapsed": false
   },
   "source": [
    "**Hint** \n",
    "\n",
    "In the above, $\\hat Z$ is a standard normal random variable, $\\hat \\sigma$ is\n",
    "$$\\hat \\sigma = \\frac{\\sigma}{n} \\sqrt{\\frac{(n+1)(2n+1)}{6}}$$\n",
    "and $\\hat r$ is\n",
    "$$\\hat r = \\frac 1 2 \\hat \\sigma^2 + \\frac{n+1}{2n}(r - \\frac 1 2 \\sigma^2).$$\n"
   ]
  },
  {
   "cell_type": "code",
   "execution_count": 15,
   "metadata": {
    "collapsed": false
   },
   "outputs": [
   ],
   "source": [
    "# Use the formula above to calculate sigma_hat and r_hat for the Geometric Asain Call pricing model.\n",
    "\n",
    "sigma_hat = sigma/n * math.sqrt((n+1) * (2*n+1) /6)\n",
    "\n",
    "r_hat = 1/2 * sigma_hat ** 2 + (n+1)/2/n * (r-1/2 * sigma**2)"
   ]
  },
  {
   "cell_type": "markdown",
   "metadata": {
    "collapsed": false
   },
   "source": [
    "Then, by fundamental asset pricing theory, we have GAC price by\n",
    "$$\\Pi_0^c = e^{(\\hat r - r)T} \\mathbb E [ e^{-\\hat r T} (A_T - K)^+].$$\n",
    "\n",
    "Same as:\n",
    "\n",
    "$$\\Pi_0^c = e^{(\\hat r - r)T} BSM \\_ call(S_0, K, 0, T, \\hat r, \\hat \\sigma )$$\n"
   ]
  },
  {
   "cell_type": "code",
   "execution_count": 16,
   "metadata": {
    "collapsed": false
   },
   "outputs": [
    {
     "name": "stdout",
     "output_type": "stream",
     "text": [
      "The value of geometric asian call is 2.732987\n"
     ]
    }
   ],
   "source": [
    "# The price of this Geometric Asian Call option was calculated by formular above shown below:\n",
    "\n",
    "GAC= math.exp((r_hat-r)*T) * BSM_call_value(S0, K, 0, T, r_hat, sigma_hat)\n",
    "print('The value of geometric asian call is %f' %GAC)"
   ]
  },
  {
   "cell_type": "code",
   "execution_count": 0,
   "metadata": {
    "collapsed": false
   },
   "outputs": [
   ],
   "source": [
   ]
  }
 ],
 "metadata": {
  "kernelspec": {
   "display_name": "SageMath (stable)",
   "name": "sagemath"
  },
  "language_info": {
   "codemirror_mode": {
    "name": "ipython",
    "version": 2
   },
   "file_extension": ".py",
   "mimetype": "text/x-python",
   "name": "python",
   "nbconvert_exporter": "python",
   "pygments_lexer": "ipython2",
   "version": "2.7.15"
  }
 },
 "nbformat": 4,
 "nbformat_minor": 0
}
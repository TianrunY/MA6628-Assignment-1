{
 "cells": [
  {
   "cell_type": "code",
   "execution_count": 10,
   "metadata": {
    "collapsed": false
   },
   "outputs": [
    {
     "name": "stdout",
     "output_type": "stream",
     "text": [
      "The total number of twin primes between one thousand and one million is 8134\n",
      "The biggest twin prime is 999959 999961\n"
     ]
    }
   ],
   "source": [
    "# MA 6628 Assignment 1\n",
    "# Tianrun Yu\n",
    "\n",
    "import math\n",
    "import sys\n",
    "def isprime (n):\n",
    "    if n <= 1:\n",
    "        return 0\n",
    "    if n%2 == 0:\n",
    "        return 0\n",
    "    for i in range(3,int(n**0.5)+1,2):\n",
    "        if n%i == 0:\n",
    "            return 0\n",
    "    return 1\n",
    "if __name__ == \"__main__\":\n",
    "    a,b=1000,1002\n",
    "    count =0\n",
    "    for i in range(1000,1000000):\n",
    "        if isprime(i)*isprime(i+2):\n",
    "            a,b=i,i+2\n",
    "            count = count +1\n",
    "    print('The total number of twin primes between one thousand and one million is %d' %count)\n",
    "    print('The biggest twin prime I have found is %d %d' %(a,b))"
   ]
  },
  {
   "cell_type": "code",
   "execution_count": 0,
   "metadata": {
    "collapsed": false
   },
   "outputs": [
   ],
   "source": [
   ]
  }
 ],
 "metadata": {
  "kernelspec": {
   "display_name": "SageMath (stable)",
   "name": "sagemath"
  },
  "language_info": {
   "codemirror_mode": {
    "name": "ipython",
    "version": 2
   },
   "file_extension": ".py",
   "mimetype": "text/x-python",
   "name": "python",
   "nbconvert_exporter": "python",
   "pygments_lexer": "ipython2",
   "version": "2.7.15"
  }
 },
 "nbformat": 4,
 "nbformat_minor": 0
}

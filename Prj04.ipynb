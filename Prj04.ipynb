{
 "cells": [
  {
   "cell_type": "markdown",
   "metadata": {
    "collapsed": false
   },
   "source": [
    "# Prj04\n",
    "\n",
    "Consider the following data sets:\n",
    "\n",
    "- Today: Sep 27, 2018\n",
    "\n",
    "- Spot price: 290.68\n",
    "\n",
    "- Maturity: Dec 31, 2018\n",
    "\n",
    "- Strike: 288\n",
    "\n",
    "- rate: 0.02 (from https://www.treasury.gov/resource-center/data-chart-center/interest-rates/Pages/TextView.aspx?data=yield)\n",
    "\n",
    "- Market call price: 9.23"
   ]
  },
  {
   "cell_type": "code",
   "execution_count": 1,
   "metadata": {
    "collapsed": false
   },
   "outputs": [
   ],
   "source": [
    "%reset -f"
   ]
  },
  {
   "cell_type": "code",
   "execution_count": 2,
   "metadata": {
    "collapsed": false
   },
   "outputs": [
   ],
   "source": [
    "import numpy as np \n",
    "import scipy.stats as ss\n",
    "import matplotlib.pyplot as plt\n",
    "import time \n",
    "import math\n",
    "\n",
    "# We need to find out d1 and d2 and set up BSM for later use:\n",
    "def d1f(St, K, t, T, r, sigma):\n",
    "    ''' Black-Scholes-Merton d1 function.\n",
    "        Parameters see e.g. BSM_call_value function. '''\n",
    "    d1 = (math.log(St / K) + (r + 0.5 * sigma ** 2)\n",
    "          * (T - t)) / (sigma * math.sqrt(T - t))\n",
    "    return d1\n",
    "\n",
    "# Valuation Functions for the price of call\n",
    "def BSM_call_value(St, K, t, T, r, sigma):\n",
    "    ''' Calculates Black-Scholes-Merton European call option value.\n",
    "\n",
    "    Parameters\n",
    "    ==========\n",
    "    St : float\n",
    "        stock/index level at time t\n",
    "    K : float\n",
    "        strike price\n",
    "    t : float\n",
    "        valuation date\n",
    "    T : float\n",
    "        date of maturity/time-to-maturity if t = 0; T > t\n",
    "    r : float\n",
    "        constant, risk-less short rate\n",
    "    sigma : float\n",
    "        volatility\n",
    "\n",
    "    Returns\n",
    "    =======\n",
    "    call_value : float\n",
    "        European call present value at t\n",
    "    '''\n",
    "    d1 = d1f(St, K, t, T, r, sigma)\n",
    "    d2 = d1 - sigma * math.sqrt(T - t)\n",
    "    call_value = St * ss.norm.cdf(d1) - math.exp(-r * (T - t)) * K * ss.norm.cdf(d2)\n",
    "    return call_value"
   ]
  },
  {
   "cell_type": "markdown",
   "metadata": {
    "collapsed": false
   },
   "source": [
    "Ans for：\n",
    "\n",
    "1. If the volatility is $30\\%$, what is the difference between BSM call price and market call price?"
   ]
  },
  {
   "cell_type": "code",
   "execution_count": 3,
   "metadata": {
    "collapsed": false
   },
   "outputs": [
    {
     "name": "stdout",
     "output_type": "stream",
     "text": [
      "The difference between BSM call value and market call price is 10.539938.\n"
     ]
    }
   ],
   "source": [
    "Today = np.datetime64('2018-09-27')\n",
    "Maturity = np.datetime64('2018-12-31')\n",
    "T = (Maturity - Today)/np.timedelta64(1,'D')/365 #time to maturity in year\n",
    "St = 290.68   #Spot price\n",
    "K = 288.      #Strike price\n",
    "t = 0\n",
    "r = 0.02      #rate\n",
    "sigma = 0.3   #Vol\n",
    "Call_value = BSM_call_value(St, K, t, T, r, sigma)\n",
    "\n",
    "MarketPrice = 9.23\n",
    "\n",
    "print('The difference between BSM call value and market call price is %f.' %np.abs(Call_value - MarketPrice))\n"
   ]
  },
  {
   "cell_type": "markdown",
   "metadata": {
    "collapsed": false
   },
   "source": [
    "Ans for：\n",
    "\n",
    "2. Compute the implied volatility."
   ]
  },
  {
   "cell_type": "code",
   "execution_count": 4,
   "metadata": {
    "collapsed": false
   },
   "outputs": [
    {
     "name": "stdout",
     "output_type": "stream",
     "text": [
      "Optimization terminated successfully.\n",
      "         Current function value: 0.000000\n",
      "         Iterations: 15\n",
      "         Function evaluations: 30\n",
      "Implied volatility is 0.11824218749999948\n"
     ]
    }
   ],
   "source": [
    "from scipy import optimize\n",
    "\n",
    "def IVolBsm(St, K, T, r, Pm):\n",
    "    \"\"\"\n",
    "    Inputs:\n",
    "        St: spot price\n",
    "        K: strike price\n",
    "        T: time to maturity in year\n",
    "        r: rate\n",
    "        Pm: market price\n",
    "    Outputs:\n",
    "        Implied volatility\n",
    "    \"\"\"\n",
    "    InitVol = 0.3\n",
    "    error = lambda sigma: (BSM_call_value(St, K, t, T, r, sigma) - Pm)**2\n",
    "    opt = optimize.fmin(error, InitVol);\n",
    "    return opt[0]\n",
    "\n",
    "Pm = 9.23\n",
    "\n",
    "if __name__ == \"__main__\":\n",
    "    print('Implied volatility is', IVolBsm(St, K, T, r, Pm))"
   ]
  },
  {
   "cell_type": "code",
   "execution_count": 0,
   "metadata": {
    "collapsed": false
   },
   "outputs": [
   ],
   "source": [
   ]
  },
  {
   "cell_type": "code",
   "execution_count": 0,
   "metadata": {
    "collapsed": false
   },
   "outputs": [
   ],
   "source": [
   ]
  }
 ],
 "metadata": {
  "kernelspec": {
   "display_name": "Python 3 (Ubuntu Linux)",
   "language": "python",
   "name": "python3"
  },
  "language_info": {
   "codemirror_mode": {
    "name": "ipython",
    "version": 3
   },
   "file_extension": ".py",
   "mimetype": "text/x-python",
   "name": "python",
   "nbconvert_exporter": "python",
   "pygments_lexer": "ipython3",
   "version": "3.6.6"
  }
 },
 "nbformat": 4,
 "nbformat_minor": 0
}